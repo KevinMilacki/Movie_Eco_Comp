{
 "cells": [
  {
   "cell_type": "code",
   "execution_count": 1,
   "metadata": {},
   "outputs": [],
   "source": [
    "import pandas as pd"
   ]
  },
  {
   "cell_type": "code",
   "execution_count": 21,
   "metadata": {},
   "outputs": [],
   "source": [
    "movie_df = pd.read_csv(\"archive_movie/movie_dataset.csv\")\n",
    "economy_df = pd.read_csv(\"archive _economy/Eco_USA.csv\")\n",
    "congress_df = pd.read_csv(\"congress.csv\")\n",
    "pd.set_option(\"display.max_columns\", None)"
   ]
  },
  {
   "cell_type": "code",
   "execution_count": 22,
   "metadata": {},
   "outputs": [
    {
     "data": {
      "text/html": [
       "<div>\n",
       "<style scoped>\n",
       "    .dataframe tbody tr th:only-of-type {\n",
       "        vertical-align: middle;\n",
       "    }\n",
       "\n",
       "    .dataframe tbody tr th {\n",
       "        vertical-align: top;\n",
       "    }\n",
       "\n",
       "    .dataframe thead th {\n",
       "        text-align: right;\n",
       "    }\n",
       "</style>\n",
       "<table border=\"1\" class=\"dataframe\">\n",
       "  <thead>\n",
       "    <tr style=\"text-align: right;\">\n",
       "      <th></th>\n",
       "      <th>Congress (Years)</th>\n",
       "      <th># of House Seats</th>\n",
       "      <th>Democrats</th>\n",
       "      <th>Republicans</th>\n",
       "      <th>Other</th>\n",
       "      <th>Del./Res.</th>\n",
       "    </tr>\n",
       "  </thead>\n",
       "  <tbody>\n",
       "    <tr>\n",
       "      <th>0</th>\n",
       "      <td>1977-1979</td>\n",
       "      <td>435</td>\n",
       "      <td>292</td>\n",
       "      <td>143</td>\n",
       "      <td>0</td>\n",
       "      <td>1-Mar</td>\n",
       "    </tr>\n",
       "    <tr>\n",
       "      <th>1</th>\n",
       "      <td>96th (1979�1981)</td>\n",
       "      <td>435</td>\n",
       "      <td>278</td>\n",
       "      <td>157</td>\n",
       "      <td>0</td>\n",
       "      <td>1-Mar</td>\n",
       "    </tr>\n",
       "    <tr>\n",
       "      <th>2</th>\n",
       "      <td>97th (1981�1983)</td>\n",
       "      <td>435</td>\n",
       "      <td>243</td>\n",
       "      <td>192</td>\n",
       "      <td>0</td>\n",
       "      <td>1-Apr</td>\n",
       "    </tr>\n",
       "    <tr>\n",
       "      <th>3</th>\n",
       "      <td>98th (1983�1985)</td>\n",
       "      <td>435</td>\n",
       "      <td>269</td>\n",
       "      <td>166</td>\n",
       "      <td>0</td>\n",
       "      <td>1-Apr</td>\n",
       "    </tr>\n",
       "    <tr>\n",
       "      <th>4</th>\n",
       "      <td>99th (1985�1987)</td>\n",
       "      <td>435</td>\n",
       "      <td>254</td>\n",
       "      <td>181</td>\n",
       "      <td>0</td>\n",
       "      <td>1-Apr</td>\n",
       "    </tr>\n",
       "  </tbody>\n",
       "</table>\n",
       "</div>"
      ],
      "text/plain": [
       "   Congress (Years)  # of House Seats  Democrats  Republicans Other Del./Res.\n",
       "0         1977-1979               435        292          143     0     1-Mar\n",
       "1  96th (1979�1981)               435        278          157     0     1-Mar\n",
       "2  97th (1981�1983)               435        243          192     0     1-Apr\n",
       "3  98th (1983�1985)               435        269          166     0     1-Apr\n",
       "4  99th (1985�1987)               435        254          181     0     1-Apr"
      ]
     },
     "execution_count": 22,
     "metadata": {},
     "output_type": "execute_result"
    }
   ],
   "source": [
    "congress_df.head()"
   ]
  }
 ],
 "metadata": {
  "kernelspec": {
   "display_name": "venv",
   "language": "python",
   "name": "python3"
  },
  "language_info": {
   "codemirror_mode": {
    "name": "ipython",
    "version": 3
   },
   "file_extension": ".py",
   "mimetype": "text/x-python",
   "name": "python",
   "nbconvert_exporter": "python",
   "pygments_lexer": "ipython3",
   "version": "3.12.3"
  }
 },
 "nbformat": 4,
 "nbformat_minor": 2
}
